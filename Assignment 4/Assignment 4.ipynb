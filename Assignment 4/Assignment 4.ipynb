{
 "cells": [
  {
   "attachments": {},
   "cell_type": "markdown",
   "metadata": {},
   "source": [
    "# Assignment 4"
   ]
  },
  {
   "attachments": {},
   "cell_type": "markdown",
   "metadata": {},
   "source": [
    "## Try to submit as an HTML file"
   ]
  },
  {
   "attachments": {},
   "cell_type": "markdown",
   "metadata": {},
   "source": [
    "<font size = \"5\">\n",
    "Print your name below"
   ]
  },
  {
   "cell_type": "code",
   "execution_count": 1,
   "metadata": {},
   "outputs": [
    {
     "name": "stdout",
     "output_type": "stream",
     "text": [
      "June Yun\n"
     ]
    }
   ],
   "source": [
    "print(\"June Yun\")"
   ]
  },
  {
   "attachments": {},
   "cell_type": "markdown",
   "metadata": {},
   "source": [
    "<font size = \"5\">\n",
    "\n",
    "Import the numpy, matplotlib, and pandas packages"
   ]
  },
  {
   "cell_type": "code",
   "execution_count": 2,
   "metadata": {},
   "outputs": [],
   "source": [
    "# Import numpy as np\n",
    "import numpy as np\n",
    "# Import matplotlib.pyplot as plt\n",
    "import matplotlib.pyplot as plt\n",
    "# Import pandas as pd\n",
    "import pandas as pd\n",
    "# Import seaborn as sns\n",
    "\n",
    "            \n",
    "\n",
    "\n",
    "\n",
    "\n",
    "\n",
    "\n",
    "\n"
   ]
  },
  {
   "attachments": {},
   "cell_type": "markdown",
   "metadata": {},
   "source": [
    "<font size = \"5\">\n",
    "\n",
    "(a) Create a sequence \n",
    "\n",
    "- Create a value $n = 50$\n",
    "- Create a list with the values $0,1,\\ldots, n$\n",
    "- Count the length of the list"
   ]
  },
  {
   "cell_type": "code",
   "execution_count": 4,
   "metadata": {},
   "outputs": [
    {
     "name": "stdout",
     "output_type": "stream",
     "text": [
      "50\n"
     ]
    }
   ],
   "source": [
    "# Write your answer here\n",
    "# Create a value n = 50\n",
    "n = 50\n",
    "# Create a list with 0,1,...,n\n",
    "list = [0]*n\n",
    "# Count the length of the list\n",
    "length = len(list)\n",
    "print(length)\n",
    "\n",
    "\n",
    "\n",
    "\n",
    "\n"
   ]
  },
  {
   "attachments": {},
   "cell_type": "markdown",
   "metadata": {},
   "source": [
    "<font size = \"5\">\n",
    "\n",
    "(b) Counting True/False statements in a list\n",
    "\n",
    "- Create\n",
    "list_ages = [18, 20, 13, 15, 20, 35, 8, 7]\n",
    "- Create an empty list \"list_eligible_voter\"\n",
    "- Use a for-loop without numbering\n",
    "    - Determine whether the age is $\\ge 18$\n",
    "    - Store the True/False result in \"list_eligible_voter\"\n",
    "- Use \"np.sum()\" to count how many voters are eligible\n",
    "\n",
    "Hint: Use the \"append\" function."
   ]
  },
  {
   "cell_type": "code",
   "execution_count": 5,
   "metadata": {},
   "outputs": [
    {
     "name": "stdout",
     "output_type": "stream",
     "text": [
      "4\n"
     ]
    }
   ],
   "source": [
    "# Write your answer here\n",
    "# Create list_ages \n",
    "list_ages = [18, 20, 13, 15, 20, 35, 8, 7]\n",
    "# Create an empty list \"list_eligible_voter\"\n",
    "list_eligible_voter = []\n",
    "# Use a for-loop without numbering to determine whether the age is equal or greater than 18\n",
    "for age in list_ages:\n",
    "    if age >= 18:\n",
    "        # Store the boolean value of whether the age is equal or greater than 18 in list_eligible_voter\n",
    "        list_eligible_voter.append(True)\n",
    "    else:\n",
    "        list_eligible_voter.append(False)\n",
    "# Use np.sum() to count the number of true values in list_eligible_voter\n",
    "print(np.sum(list_eligible_voter))\n",
    "\n"
   ]
  },
  {
   "attachments": {},
   "cell_type": "markdown",
   "metadata": {},
   "source": [
    "<font size = \"5\">\n",
    "\n",
    "(c) Graphs from multiple datasets\n",
    "\n",
    "- Create a list with the two \"WDI\" datasets for 2000, and 2020\n",
    "- Run a for-loop over each dataset \n",
    "    - Compute a histogram of \"prop_urbanpopulation\" for each year\n",
    "    - Label the title with the name of the dataset"
   ]
  },
  {
   "cell_type": "code",
   "execution_count": 9,
   "metadata": {},
   "outputs": [
    {
     "data": {
      "image/png": "[encoded data removed]",
      "text/plain": [
       "<Figure size 640x480 with 1 Axes>"
      ]
     },
     "metadata": {},
     "output_type": "display_data"
    },
    {
     "data": {
      "image/png": "[encoded data removed]",
      "text/plain": [
       "<Figure size 640x480 with 1 Axes>"
      ]
     },
     "metadata": {},
     "output_type": "display_data"
    }
   ],
   "source": [
    "# Note \"prop_urbanpopulation\" is the percentage of the urban population over\n",
    "# the total population\n",
    "\n",
    "# Hint: Before you write the loop, test your code out by opening an individual dataset\n",
    "# Once you're sure the code works and you're familiar with the data, run the loop\n",
    "\n",
    "# Create a list with the two WDI datasets for wdi_2000.csv and wdi_2020.csv\n",
    "list_datasets = [\"wdi_2000.csv\", \"wdi_2020.csv\"]\n",
    "# Run a for-loop over each dataset\n",
    "for dataset in list_datasets:\n",
    "    df = pd.read_csv(dataset)\n",
    "    # compute a histogram of \"prop_urbanpopulation\" for each year with matplot\n",
    "    plt.hist(df[\"prop_urbanpopulation\"])\n",
    "    # label the title with the name of the dataset\n",
    "    plt.title(dataset)\n",
    "    plt.show()\n",
    "\n",
    "\n",
    "\n",
    "\n",
    "\n",
    "\n",
    "\n",
    "\n",
    "    "
   ]
  },
  {
   "attachments": {},
   "cell_type": "markdown",
   "metadata": {},
   "source": [
    "<font size = \"5\">\n",
    "\n",
    "For questions (d) and (e), use the following table:\n",
    "\n",
    "<img src=\"figures/grading_scale.png\" alt=\"drawing\" width=\"700\"/>\n",
    "\n",
    "(d) Loops with multiple lists\n",
    "\n",
    "<font size =\"3\">\n",
    "- Create three lists\n",
    "\n",
    "list_lower = [93, 87, 83, 80, 75, 70, 65, 60, 55, 0]\n",
    "\n",
    "list_upper = [100,92, 86, 82, 79, 74, 69, 64, 59, 54]\n",
    "\n",
    "list_letters = [\"A\",\"A-\",\"B+\",\"B\",\"B-\",\"C+\",\"C\",\"C-\",\"D\",\"F\"]\n",
    "\n",
    "- Create a for loop that prints the message:\n",
    "\n",
    "\"If a students gets a grade between .... and ..., their letter grade is ...\"\n",
    "\n"
   ]
  },
  {
   "cell_type": "code",
   "execution_count": 21,
   "metadata": {},
   "outputs": [
    {
     "name": "stdout",
     "output_type": "stream",
     "text": [
      "If a students gets a grade between 93 and 100, their letter grade is A\n",
      "If a students gets a grade between 87 and 92, their letter grade is A-\n",
      "If a students gets a grade between 83 and 86, their letter grade is B+\n",
      "If a students gets a grade between 80 and 82, their letter grade is B\n",
      "If a students gets a grade between 75 and 79, their letter grade is B-\n",
      "If a students gets a grade between 70 and 74, their letter grade is C+\n",
      "If a students gets a grade between 65 and 69, their letter grade is C\n",
      "If a students gets a grade between 60 and 64, their letter grade is C-\n",
      "If a students gets a grade between 55 and 59, their letter grade is D\n",
      "If a students gets a grade between 0 and 54, their letter grade is F\n"
     ]
    }
   ],
   "source": [
    "# Hint: Use a for-loop with numbering \n",
    "# Start the index at zero\n",
    "# In the body of the loop, extract the elements in each list by the index position\n",
    "\n",
    "# Write your answer here\n",
    "# Create three lists:\n",
    "list_lower = [93, 87, 83, 80, 75, 70, 65, 60, 55, 0]\n",
    "list_upper = [100,92, 86, 82, 79, 74, 69, 64, 59, 54]\n",
    "list_letters = [\"A\",\"A-\",\"B+\",\"B\",\"B-\",\"C+\",\"C\",\"C-\",\"D\",\"F\"]\n",
    "\n",
    "# Create a for loop that takes in \"\n",
    "for n in range(10):\n",
    "    print(\"If a students gets a grade between \" + str(list_lower[n]) + \" and \" + str(list_upper[n]) + \", their letter grade is \" + str(list_letters[n]))\n",
    "\n",
    "    \n",
    "        \n",
    "\n",
    "\n",
    "\n",
    "\n",
    "\n",
    "\n",
    "\n",
    "\n"
   ]
  },
  {
   "attachments": {},
   "cell_type": "markdown",
   "metadata": {},
   "source": [
    "<font size = \"5\" >\n",
    "\n",
    "(e) Classification with double loops\n",
    "\n",
    "<font size =\"3\">\n",
    "\n",
    "- Suppose that 5 students get the following grades:\n",
    "\n",
    "list_studentgrades = [80, 92, 60, 42, 97]\n",
    "\n",
    "- Print the following message:\n",
    "\n",
    "\"The student got a numeric grade of .... and their letter grade was ...\"\n"
   ]
  },
  {
   "cell_type": "code",
   "execution_count": 20,
   "metadata": {},
   "outputs": [
    {
     "name": "stdout",
     "output_type": "stream",
     "text": [
      "The student got a numberic grade of 80 and their letter grade was B.\n",
      "The student got a numberic grade of 92 and their letter grade was A-.\n",
      "The student got a numberic grade of 60 and their letter grade was C-.\n",
      "The student got a numberic grade of 42 and their letter grade was F.\n",
      "The student got a numberic grade of 97 and their letter grade was A.\n"
     ]
    }
   ],
   "source": [
    "#(a) Hint: Use a double for loop structure:\n",
    "#---- for studentgrade in list_studentgrades:\n",
    "#----     index = 0\n",
    "#----     for letter in list_letters:\n",
    "#----          Body\n",
    "#----          index = index + 1\n",
    "\n",
    "# (b) Inside the body, use an if/else statement to print the correct letter grade.\n",
    "# You can make your code more concise by doing similar steps to question (d).\n",
    "\n",
    "# Write your answer here:\n",
    "list_studentgrades = [80, 92, 60, 42, 97]\n",
    "for studentgrade in list_studentgrades:\n",
    "    index = 0\n",
    "    for letter in list_letters:\n",
    "        if studentgrade >= list_lower[index] and studentgrade <= list_upper[index]:\n",
    "            print(\"The student got a numberic grade of \" + str(studentgrade) + \" and their letter grade was \" + str(list_letters[index]) + \".\")\n",
    "        index = index + 1\n",
    "        \n",
    "\n",
    "\n",
    "\n"
   ]
  }
 ],
 "metadata": {
  "kernelspec": {
   "display_name": "Python 3",
   "language": "python",
   "name": "python3"
  },
  "language_info": {
   "codemirror_mode": {
    "name": "ipython",
    "version": 3
   },
   "file_extension": ".py",
   "mimetype": "text/x-python",
   "name": "python",
   "nbconvert_exporter": "python",
   "pygments_lexer": "ipython3",
   "version": "3.11.1 (v3.11.1:a7a450f84a, Dec  6 2022, 15:24:06) [Clang 13.0.0 (clang-1300.0.29.30)]"
  },
  "orig_nbformat": 4,
  "vscode": {
   "interpreter": {
    "hash": "aee8b7b246df8f9039afb4144a1f6fd8d2ca17a180786b69acc140d282b71a49"
   }
  }
 },
 "nbformat": 4,
 "nbformat_minor": 2
}
