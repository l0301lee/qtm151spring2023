{
 "cells": [
  {
   "attachments": {},
   "cell_type": "markdown",
   "metadata": {},
   "source": [
    "# <span style=\"color:darkblue\"> Lecture 8: User-defined Functions </span>"
   ]
  },
  {
   "attachments": {},
   "cell_type": "markdown",
   "metadata": {},
   "source": [
    "## <span style=\"color:darkblue\"> I. Import Libraries </span>"
   ]
  },
  {
   "cell_type": "code",
   "execution_count": 21,
   "metadata": {},
   "outputs": [],
   "source": [
    "# the \"numPy\" library is used for mathematical operations\n",
    "# the \"matplotlib\" library is for generating graphs\n",
    "# the \"pandas\" library is for manipualting datasets\n",
    "\n",
    "import numpy as np\n",
    "import matplotlib.pyplot as plt\n",
    "import pandas as pd\n"
   ]
  },
  {
   "attachments": {},
   "cell_type": "markdown",
   "metadata": {},
   "source": [
    "## <span style=\"color:darkblue\"> II. Introduction to Functions </span>"
   ]
  },
  {
   "attachments": {},
   "cell_type": "markdown",
   "metadata": {},
   "source": [
    "<font size=\"5\"> \n",
    "\n",
    "A function is ...\n",
    "\n",
    "- a **block of reusable** code to perform a a specific task\n",
    "- Functions avoid repetition\n",
    "- As our code grows larger, functions make it more manageable\n",
    "\n"
   ]
  },
  {
   "attachments": {},
   "cell_type": "markdown",
   "metadata": {},
   "source": [
    "<font size=\"5\"> \n",
    "\n",
    "\"Built-in\" functions are those from Python libraries, e.g.\n",
    "\n",
    "```print()```, ```type()```, ```round()```,```abs()```, ```len()```\n",
    "\n",
    "- The \"arguments\" are the values of the inputs\n",
    "- The \"return\" is the output\n"
   ]
  },
  {
   "cell_type": "code",
   "execution_count": 1,
   "metadata": {},
   "outputs": [
    {
     "name": "stdout",
     "output_type": "stream",
     "text": [
      "Message\n"
     ]
    }
   ],
   "source": [
    "# Argument:   \"Hello\" \n",
    "# Return:     Showing the message on screen\n",
    "\n",
    "print(\"Hello\")\n"
   ]
  },
  {
   "cell_type": "code",
   "execution_count": 29,
   "metadata": {},
   "outputs": [
    {
     "data": {
      "text/plain": [
       "float"
      ]
     },
     "execution_count": 29,
     "metadata": {},
     "output_type": "execute_result"
    }
   ],
   "source": [
    "# Argument:  3.14\n",
    "# Return:    The type of object, e.g. int, str, boolean, float, etc.\n",
    "\n",
    "type(3.14)\n"
   ]
  },
  {
   "cell_type": "code",
   "execution_count": 30,
   "metadata": {},
   "outputs": [
    {
     "data": {
      "text/plain": [
       "3.141593"
      ]
     },
     "execution_count": 30,
     "metadata": {},
     "output_type": "execute_result"
    }
   ],
   "source": [
    "# First Argument:   np.pi     (a numeric value)\n",
    "# Second Argument:  6         (the number of decimals)\n",
    "# Return:  Round the first argument, given the number of decimals in the second argument\n",
    "\n",
    "round(np.pi,  6)\n"
   ]
  },
  {
   "cell_type": "code",
   "execution_count": 31,
   "metadata": {},
   "outputs": [
    {
     "data": {
      "text/plain": [
       "4"
      ]
     },
     "execution_count": 31,
     "metadata": {},
     "output_type": "execute_result"
    }
   ],
   "source": [
    "# Argument: -4\n",
    "# Return:   The absolute value\n",
    "abs(-4)\n"
   ]
  },
  {
   "cell_type": "code",
   "execution_count": 33,
   "metadata": {},
   "outputs": [
    {
     "data": {
      "text/plain": [
       "3"
      ]
     },
     "execution_count": 33,
     "metadata": {},
     "output_type": "execute_result"
    }
   ],
   "source": [
    "list_fruits = [\"Apple\",\"Orange\",\"Pear\"]\n",
    "\n",
    "# Argument: list_fruists\n",
    "# Return:   The number of elements in the list\n",
    "len(list_fruits)"
   ]
  },
  {
   "attachments": {},
   "cell_type": "markdown",
   "metadata": {},
   "source": [
    "<font size = \"5\">\n",
    "\n",
    "Enter arguments by assigning parameters"
   ]
  },
  {
   "cell_type": "code",
   "execution_count": 46,
   "metadata": {},
   "outputs": [],
   "source": [
    "# Here \"df\" and \"size\" are both parameters\n",
    "# The y get assigned the arguments \"2\" and \"20\", respectively\n",
    "# The return is a vector of random variables\n",
    "\n",
    "vec_x = np.random.chisquare(df = 2, size = 20)\n"
   ]
  },
  {
   "cell_type": "code",
   "execution_count": 48,
   "metadata": {},
   "outputs": [],
   "source": [
    "vec_y = np.random.normal(loc = 2, scale = 5, size = 20)\n",
    "vec_z = np.random.uniform(low = -2, high =2, size = 50)"
   ]
  },
  {
   "attachments": {},
   "cell_type": "markdown",
   "metadata": {},
   "source": [
    "<font size = \"5\">\n",
    "\n",
    "Discussion:\n",
    "\n",
    "- What are the parameters, arguments, and returns above?\n"
   ]
  },
  {
   "attachments": {},
   "cell_type": "markdown",
   "metadata": {},
   "source": [
    "## <span style=\"color:darkblue\"> III. Custom Functions </span>"
   ]
  },
  {
   "attachments": {},
   "cell_type": "markdown",
   "metadata": {},
   "source": [
    "<font size = \"5\">\n",
    "\n",
    "You can write your own functions:\n",
    "\n",
    "```python\n",
    "\n",
    "    #---- DEFINE\n",
    "    def my_function(parameter):\n",
    "        body\n",
    "        return expression\n",
    "\n",
    "    #---- RUN\n",
    "    my_function(parameter = argument) \n",
    "\n",
    "    #---- RUN\n",
    "    my_function(argument)\n",
    "```\n",
    "<br>"
   ]
  },
  {
   "attachments": {},
   "cell_type": "markdown",
   "metadata": {},
   "source": [
    "<font size = \"5\">\n",
    "\n",
    "Example: Calculate\n",
    "\n",
    "$V=P\\left(1+{\\frac {r}{n}}\\right)^{nt}$\n",
    "\n",
    "\n"
   ]
  },
  {
   "cell_type": "code",
   "execution_count": 1,
   "metadata": {},
   "outputs": [],
   "source": [
    "# We are going to define a function \"fn_compute_value\"\n",
    "# You can choose any name\n",
    "# Using prefixes like \"fn_\" can help you remember this is a \"function\" object\n",
    "# The parameters are \n",
    "\n",
    "def fn_compute_value(P,r,n,t):\n",
    "    V = P*(1 + r/n)**(n*t)\n",
    "    return(V)"
   ]
  },
  {
   "cell_type": "code",
   "execution_count": 5,
   "metadata": {},
   "outputs": [
    {
     "name": "stdout",
     "output_type": "stream",
     "text": [
      "1105.1432983541217\n",
      "11.051432983541218\n"
     ]
    }
   ],
   "source": [
    "# You can know compute the formula with different values\n",
    "def fn_compute_value(P,r,n,t):\n",
    "    V = P*(1 + r/n)**(n*t)\n",
    "    return(V)\n",
    "V1 = fn_compute_value(P = 1000, r = 0.01, n = 20, t=10)\n",
    "V2 = fn_compute_value(P = 10, r = 0.01, n = 20, t=10)\n",
    "\n",
    "print(V1)\n",
    "print(V2)\n"
   ]
  },
  {
   "attachments": {},
   "cell_type": "markdown",
   "metadata": {},
   "source": [
    "<font size = \"5\">\n",
    "\n",
    "Try it yourself:\n",
    "\n",
    "- Write a function that calculates $f(x) = x^2 + 2x + 1$."
   ]
  },
  {
   "cell_type": "code",
   "execution_count": 23,
   "metadata": {},
   "outputs": [
    {
     "data": {
      "text/plain": [
       "9"
      ]
     },
     "execution_count": 23,
     "metadata": {},
     "output_type": "execute_result"
    }
   ],
   "source": [
    "# Write your own code here\n",
    "# Write a function that calculates f(x) = x^2 + 2x + 1\n",
    "\n",
    "def f(x):\n",
    "    return x**2 + 2*x + 1\n",
    "\n",
    "f(2)\n",
    "\n"
   ]
  },
  {
   "attachments": {},
   "cell_type": "markdown",
   "metadata": {},
   "source": [
    "<font size = \"5\">\n",
    "\n",
    "Try it yourself: Write a function\n",
    "\n",
    "- with a parameter \"numeric_grade\"\n",
    "- Inside the function write an if/else statement for grade $\\ge 55$.\n",
    "- If it's true, then assign \"status = pass\"\n",
    "- If it's false, then assign \"status = fail\"\n",
    "- Return the value of \"status\""
   ]
  },
  {
   "cell_type": "code",
   "execution_count": 24,
   "metadata": {},
   "outputs": [
    {
     "name": "stdout",
     "output_type": "stream",
     "text": [
      "fail\n",
      "pass\n"
     ]
    }
   ],
   "source": [
    "# Write your own code\n",
    "def fn_numeric_grade(numeric_grade):\n",
    "    if numeric_grade >= 55:\n",
    "        status = \"pass\"\n",
    "    else:\n",
    "        status = \"fail\"\n",
    "    return status\n",
    "\n",
    "print(fn_numeric_grade(54))\n",
    "print(fn_numeric_grade(66))\n",
    "\n",
    "\n",
    "\n",
    "\n"
   ]
  },
  {
   "attachments": {},
   "cell_type": "markdown",
   "metadata": {},
   "source": [
    "<font size = \"5\">\n",
    "\n",
    "Try it yourself! Write a function \n",
    "- Write a function with parameters \"first_name\", \"laste_name\", \"car_model\"\n",
    "- Return a message saying:\n",
    "\n",
    "\"Dear customer {first_name} {last_name}, your car model {car_model} is ready\" \n",
    "\n",
    "\n",
    "\n"
   ]
  },
  {
   "cell_type": "code",
   "execution_count": 27,
   "metadata": {},
   "outputs": [
    {
     "name": "stdout",
     "output_type": "stream",
     "text": [
      "Dear customer first_name last_name your car modelcar_model is ready\n"
     ]
    }
   ],
   "source": [
    "# Write your own code\n",
    "def fn_greeting(first_name, last_name, car_model):\n",
    "    return \"Dear customer\"  + \" \" + first_name + \" \" + last_name + \" \" + \"your car model\" + car_model + \" \" + \"is ready\"\n",
    "\n",
    "print(fn_greeting(\"first_name\", \"last_name\", \"car_model\"))\n",
    "\n",
    "\n",
    "\n",
    "\n"
   ]
  },
  {
   "attachments": {},
   "cell_type": "markdown",
   "metadata": {},
   "source": [
    "## <span style=\"color:darkblue\"> III. Lambda Functions </span>\n",
    "\n",
    "<font size = \"5\">\n",
    "\n",
    "\"Lambda Functions\" are defined in one line:\n",
    "\n",
    "```python\n",
    "my_function = lambda parameters: expression\n",
    "```"
   ]
  },
  {
   "attachments": {},
   "cell_type": "markdown",
   "metadata": {},
   "source": [
    "<font size = \"5\">\n",
    "\n",
    "Example: Calculate $x + y + z$"
   ]
  },
  {
   "cell_type": "code",
   "execution_count": 71,
   "metadata": {},
   "outputs": [
    {
     "data": {
      "text/plain": [
       "6"
      ]
     },
     "execution_count": 71,
     "metadata": {},
     "output_type": "execute_result"
    }
   ],
   "source": [
    "# (a) Define function\n",
    "fn_sum = lambda x,y,z: x + y + z\n",
    "\n",
    "# (b) Run function\n",
    "fn_sum(1,2,3)"
   ]
  },
  {
   "attachments": {},
   "cell_type": "markdown",
   "metadata": {},
   "source": [
    "<font size = \"5\"> Example: Calculate\n",
    "\n",
    "$V=P\\left(1+{\\frac {r}{n}}\\right)^{nt}$\n"
   ]
  },
  {
   "cell_type": "code",
   "execution_count": 72,
   "metadata": {},
   "outputs": [],
   "source": [
    "fn_compute_value =  lambda P,r,n,t: P*(1 + r/n)**(n*t)"
   ]
  },
  {
   "cell_type": "code",
   "execution_count": 73,
   "metadata": {},
   "outputs": [
    {
     "name": "stdout",
     "output_type": "stream",
     "text": [
      "1105.1432983541217\n",
      "11.051432983541218\n"
     ]
    }
   ],
   "source": [
    "V1 = fn_compute_value(P = 1000, r = 0.01, n = 20, t=10)\n",
    "V2 = fn_compute_value(P = 10, r = 0.01, n = 20, t=10)\n",
    "\n",
    "print(V1)\n",
    "print(V2)\n"
   ]
  },
  {
   "attachments": {},
   "cell_type": "markdown",
   "metadata": {},
   "source": [
    "<font size = \"5\">\n",
    "\n",
    "Try it yourself!\n",
    "\n",
    "(a) Boleean + Functions\n",
    "\n",
    "- Write a function called \"fn_iseligible_vote\"\n",
    "- This functions returns a boolean value that checks whether age $\\ge$ 18"
   ]
  },
  {
   "cell_type": "code",
   "execution_count": 10,
   "metadata": {},
   "outputs": [
    {
     "name": "stdout",
     "output_type": "stream",
     "text": [
      "False\n",
      "True\n"
     ]
    }
   ],
   "source": [
    "# Write your own code\n",
    "# Write a function called \"fn_iseligible_vote\" which returns a boolean value that checks whether age >= 18\n",
    "\n",
    "def fn_iseligible_vote(age):\n",
    "    if age >= 18:\n",
    "        return True\n",
    "    else:\n",
    "        return False\n",
    "\n",
    "print(fn_iseligible_vote(17))\n",
    "print(fn_iseligible_vote(18))\n",
    "\n",
    "\n",
    "\n"
   ]
  },
  {
   "attachments": {},
   "cell_type": "markdown",
   "metadata": {},
   "source": [
    "<font size = \"5\">\n",
    "\n",
    "(b) Looping  + Functions\n",
    "\n",
    "- Create list_ages = [18,29,15,32,6]\n",
    "- Write a loop that checks whether above ages are eligible to vote\n",
    "- Use the above function"
   ]
  },
  {
   "cell_type": "code",
   "execution_count": 13,
   "metadata": {},
   "outputs": [
    {
     "name": "stdout",
     "output_type": "stream",
     "text": [
      "True\n",
      "True\n",
      "False\n",
      "True\n",
      "False\n"
     ]
    }
   ],
   "source": [
    "# Write your own code\n",
    "list_ages = [18, 29, 15, 32 , 6]\n",
    "for age in list_ages:\n",
    "    print(fn_iseligible_vote(age))\n",
    "\n",
    "\n",
    "\n"
   ]
  },
  {
   "attachments": {},
   "cell_type": "markdown",
   "metadata": {},
   "source": [
    "## <span style=\"color:darkblue\"> IV. (Optional) Functions for visualization </span>\n",
    "\n",
    "<font size = \"5\">\n",
    "Returning a value is not always necesary, you can write:\n",
    "\n",
    "```python\n",
    "\n",
    "    #---- DEFINE\n",
    "    def my_function(parameter):\n",
    "        body\n",
    "```"
   ]
  },
  {
   "attachments": {},
   "cell_type": "markdown",
   "metadata": {},
   "source": [
    "<font size = \"5\">\n",
    "\n",
    "Example: A customized plot\n",
    "\n",
    "- You can use functions to store your favorite aesthetic"
   ]
  },
  {
   "cell_type": "code",
   "execution_count": 77,
   "metadata": {},
   "outputs": [
    {
     "data": {
      "image/png": "[encoded data removed]",
      "text/plain": [
       "<Figure size 640x480 with 1 Axes>"
      ]
     },
     "metadata": {},
     "output_type": "display_data"
    },
    {
     "data": {
      "image/png": "[encoded data removed]",
      "text/plain": [
       "<Figure size 640x480 with 1 Axes>"
      ]
     },
     "metadata": {},
     "output_type": "display_data"
    }
   ],
   "source": [
    "# Define the function\n",
    "def red_histogram(vec_x,title):\n",
    "    plt.hist(x = vec_x, color = \"red\")\n",
    "    plt.title(title)\n",
    "    plt.ylabel(\"Frequency\")\n",
    "    plt.show()\n",
    "\n",
    "carfeatures = pd.read_csv(\"data/features.csv\")\n",
    "\n",
    "red_histogram(vec_x = carfeatures[\"weight\"], title = \"Histogram\")\n",
    "red_histogram(vec_x = carfeatures[\"acceleration\"], title = \"Histogram\")\n"
   ]
  },
  {
   "attachments": {},
   "cell_type": "markdown",
   "metadata": {},
   "source": [
    "<font size = \"5\">\n",
    "\n",
    "Try it yourself!\n",
    "\n",
    "Create a function that computes a red scatter plot that takes $y$ and $x$ inputs"
   ]
  },
  {
   "cell_type": "code",
   "execution_count": 22,
   "metadata": {},
   "outputs": [
    {
     "data": {
      "image/png": "[encoded data removed]",
      "text/plain": [
       "<Figure size 640x480 with 1 Axes>"
      ]
     },
     "metadata": {},
     "output_type": "display_data"
    }
   ],
   "source": [
    "# Write your own code\n",
    "# Create a function that computes a red scatter plot that takes y and x inputs\n",
    "vec_x = [1, 2, 3, 4, 5, 6]\n",
    "vec_y = [1, 2, 3, 4, 5, 6]\n",
    "def scatter_plot(vec_x, vec_y):\n",
    "    plt.scatter(x = vec_x, y = vec_y, color = \"red\")\n",
    "    plt.title(\"Scatter plot of vec_x and vec_y\")\n",
    "    plt.ylabel(\"vec_y\")\n",
    "    plt.show()\n",
    "\n",
    "scatter_plot(vec_x, vec_y)\n",
    "\n",
    "\n",
    "\n",
    "\n"
   ]
  }
 ],
 "metadata": {
  "kernelspec": {
   "display_name": "Python 3",
   "language": "python",
   "name": "python3"
  },
  "language_info": {
   "codemirror_mode": {
    "name": "ipython",
    "version": 3
   },
   "file_extension": ".py",
   "mimetype": "text/x-python",
   "name": "python",
   "nbconvert_exporter": "python",
   "pygments_lexer": "ipython3",
   "version": "3.11.1"
  },
  "orig_nbformat": 4,
  "vscode": {
   "interpreter": {
    "hash": "aee8b7b246df8f9039afb4144a1f6fd8d2ca17a180786b69acc140d282b71a49"
   }
  }
 },
 "nbformat": 4,
 "nbformat_minor": 2
}
